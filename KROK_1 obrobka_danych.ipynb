{
 "cells": [
  {
   "cell_type": "markdown",
   "metadata": {},
   "source": [
    "Celem projektu jest wnioskowanie przyszłych cen kryptowaluty Bitcoin.\n",
    "\n",
    "Pierwszym krokiem będzie zebranie istniejących historycznych danych oraz odpowiednie ich przygotowaneie.\n",
    "Źródło danych:  https://data.bitcoinity.org/markets/price_volume/all/USD?r=day&t=lb&vu=curr\n",
    "\n",
    "Wynikiem pierwszzego kroku będzie przygotowany plik CSV z tabelą zawierającą odpowiednie dane, która posłuży w kroku drugim."
   ]
  },
  {
   "cell_type": "markdown",
   "metadata": {},
   "source": [
    "KROK 1"
   ]
  },
  {
   "cell_type": "code",
   "execution_count": 1,
   "metadata": {
    "collapsed": true
   },
   "outputs": [],
   "source": [
    "import pandas as pd\n",
    "import numpy as np"
   ]
  },
  {
   "cell_type": "code",
   "execution_count": 2,
   "metadata": {
    "collapsed": true
   },
   "outputs": [],
   "source": [
    "import glob\n",
    "\n",
    "# Zapisanie ścieżki, która ma być przeszukana do odnalezienia ściągniętych plików z danymi:\n",
    "\n",
    "pattern = 'data/*.csv'\n",
    "\n",
    "# Zapisanie ścieżek do wszyskich plików *.csv: csv_files:\n",
    "\n",
    "csv_files = glob.glob(pattern)"
   ]
  },
  {
   "cell_type": "code",
   "execution_count": 3,
   "metadata": {
    "scrolled": false
   },
   "outputs": [
    {
     "name": "stdout",
     "output_type": "stream",
     "text": [
      "File number: 0  name: data\\bitcoinity_data_hashrrates.csv\n",
      "File number: 1  name: data\\bitcoinity_data_marketcap.csv\n",
      "File number: 2  name: data\\bitcoinity_data_mining_difficulty.csv\n",
      "File number: 3  name: data\\bitcoinity_data_notransactions.csv\n",
      "File number: 4  name: data\\bitcoinity_data_price_volume.csv\n",
      "File number: 5  name: data\\bitcoinity_data_volatility.csv\n"
     ]
    }
   ],
   "source": [
    "# Wyświetlenie nazw plików z danymi:\n",
    "\n",
    "for no in range(len(csv_files)):\n",
    "        print('File number:', no, ' name:' ,csv_files[no])"
   ]
  },
  {
   "cell_type": "markdown",
   "metadata": {},
   "source": [
    "Objaśnienie obserwowanych zmiennych:\n",
    "\n",
    "    - Hashrates - szybkość obliczeniowa maszyn w sieci BTC, służąca do szyfrowania/zabezpieczania tranzakcji (domyślnie w GH/s)\n",
    "    - Marketcap (market capitalization) - kapitalizacja giełdowa - analogicznie do rynku giełdowego akcji - iloczyn aktualnego  kursu akcji i liczby akcji spółki w obrocie giełdowym (np 5,549.46 BTC/USD * 17.5M bitcoins )\n",
    "    - Mining difficulty - Liczba określająca stopień trudności wydobycia bloku w sieci bitcoin. Im więcej mocy obliczeniowej, trudność rośnie aby dostosować czas wydobycia  bloku do założonych około 10 minut. Sieć bitcoina jest więc siecią samoregulującą się do określonych warunków w danym czasie\n",
    "    - No of transactions - liczba wykonywanych transakcji w sieci BTC w ciągu minuty\n",
    "    - Price and Volume - cena jednostki BTC w USD oraz wartość rynkowa w milionach USD\n",
    "    - Volatility - zmiennośc ceny bitcoina, odchylenie standardowe ze wszystkich giełd"
   ]
  },
  {
   "cell_type": "code",
   "execution_count": 4,
   "metadata": {},
   "outputs": [
    {
     "data": {
      "text/plain": [
       "'data\\\\bitcoinity_data_price_volume.csv'"
      ]
     },
     "execution_count": 4,
     "metadata": {},
     "output_type": "execute_result"
    }
   ],
   "source": [
    "csv_files[4]"
   ]
  },
  {
   "cell_type": "code",
   "execution_count": 5,
   "metadata": {
    "collapsed": true
   },
   "outputs": [],
   "source": [
    "# Utworzenie tymczasowego dataframe \"temp\" z danymi z pliku\n",
    "\n",
    "temp = pd.read_csv(csv_files[4],\n",
    "                   sep=',',delimiter=',', header=0, index_col='Time')  ## , dtype=float, "
   ]
  },
  {
   "cell_type": "code",
   "execution_count": 6,
   "metadata": {},
   "outputs": [
    {
     "data": {
      "text/plain": [
       "Index(['price', 'volume'], dtype='object')"
      ]
     },
     "execution_count": 6,
     "metadata": {},
     "output_type": "execute_result"
    }
   ],
   "source": [
    "# Sprawdzenie nazw kolumn:\n",
    "\n",
    "temp.columns"
   ]
  },
  {
   "cell_type": "code",
   "execution_count": 7,
   "metadata": {
    "scrolled": true
   },
   "outputs": [
    {
     "data": {
      "text/html": [
       "<div>\n",
       "<style>\n",
       "    .dataframe thead tr:only-child th {\n",
       "        text-align: right;\n",
       "    }\n",
       "\n",
       "    .dataframe thead th {\n",
       "        text-align: left;\n",
       "    }\n",
       "\n",
       "    .dataframe tbody tr th {\n",
       "        vertical-align: top;\n",
       "    }\n",
       "</style>\n",
       "<table border=\"1\" class=\"dataframe\">\n",
       "  <thead>\n",
       "    <tr style=\"text-align: right;\">\n",
       "      <th></th>\n",
       "      <th>price</th>\n",
       "      <th>volume</th>\n",
       "    </tr>\n",
       "    <tr>\n",
       "      <th>Time</th>\n",
       "      <th></th>\n",
       "      <th></th>\n",
       "    </tr>\n",
       "  </thead>\n",
       "  <tbody>\n",
       "    <tr>\n",
       "      <th>2010-07-17 00:00:00 UTC</th>\n",
       "      <td>0.049510</td>\n",
       "      <td>0.990200</td>\n",
       "    </tr>\n",
       "    <tr>\n",
       "      <th>2010-07-18 00:00:00 UTC</th>\n",
       "      <td>0.077975</td>\n",
       "      <td>5.091994</td>\n",
       "    </tr>\n",
       "    <tr>\n",
       "      <th>2010-07-19 00:00:00 UTC</th>\n",
       "      <td>0.086792</td>\n",
       "      <td>49.731775</td>\n",
       "    </tr>\n",
       "  </tbody>\n",
       "</table>\n",
       "</div>"
      ],
      "text/plain": [
       "                            price     volume\n",
       "Time                                        \n",
       "2010-07-17 00:00:00 UTC  0.049510   0.990200\n",
       "2010-07-18 00:00:00 UTC  0.077975   5.091994\n",
       "2010-07-19 00:00:00 UTC  0.086792  49.731775"
      ]
     },
     "execution_count": 7,
     "metadata": {},
     "output_type": "execute_result"
    }
   ],
   "source": [
    "temp.head(3)"
   ]
  },
  {
   "cell_type": "code",
   "execution_count": 8,
   "metadata": {
    "collapsed": true
   },
   "outputs": [],
   "source": [
    "# Utworzenie DataFrame BTC_data z interesującymi nas danymi \"cena i volume\" \n",
    "\n",
    "BTC_data = temp\n",
    "BTC_data.columns = ['Price', 'Volume']"
   ]
  },
  {
   "cell_type": "code",
   "execution_count": 9,
   "metadata": {},
   "outputs": [
    {
     "data": {
      "text/html": [
       "<div>\n",
       "<style>\n",
       "    .dataframe thead tr:only-child th {\n",
       "        text-align: right;\n",
       "    }\n",
       "\n",
       "    .dataframe thead th {\n",
       "        text-align: left;\n",
       "    }\n",
       "\n",
       "    .dataframe tbody tr th {\n",
       "        vertical-align: top;\n",
       "    }\n",
       "</style>\n",
       "<table border=\"1\" class=\"dataframe\">\n",
       "  <thead>\n",
       "    <tr style=\"text-align: right;\">\n",
       "      <th></th>\n",
       "      <th>Price</th>\n",
       "      <th>Volume</th>\n",
       "    </tr>\n",
       "    <tr>\n",
       "      <th>Time</th>\n",
       "      <th></th>\n",
       "      <th></th>\n",
       "    </tr>\n",
       "  </thead>\n",
       "  <tbody>\n",
       "    <tr>\n",
       "      <th>2010-07-17 00:00:00 UTC</th>\n",
       "      <td>0.049510</td>\n",
       "      <td>0.990200</td>\n",
       "    </tr>\n",
       "    <tr>\n",
       "      <th>2010-07-18 00:00:00 UTC</th>\n",
       "      <td>0.077975</td>\n",
       "      <td>5.091994</td>\n",
       "    </tr>\n",
       "    <tr>\n",
       "      <th>2010-07-19 00:00:00 UTC</th>\n",
       "      <td>0.086792</td>\n",
       "      <td>49.731775</td>\n",
       "    </tr>\n",
       "  </tbody>\n",
       "</table>\n",
       "</div>"
      ],
      "text/plain": [
       "                            Price     Volume\n",
       "Time                                        \n",
       "2010-07-17 00:00:00 UTC  0.049510   0.990200\n",
       "2010-07-18 00:00:00 UTC  0.077975   5.091994\n",
       "2010-07-19 00:00:00 UTC  0.086792  49.731775"
      ]
     },
     "execution_count": 9,
     "metadata": {},
     "output_type": "execute_result"
    }
   ],
   "source": [
    "BTC_data.head(3)"
   ]
  },
  {
   "cell_type": "code",
   "execution_count": 10,
   "metadata": {},
   "outputs": [
    {
     "data": {
      "text/plain": [
       "'data\\\\bitcoinity_data_hashrrates.csv'"
      ]
     },
     "execution_count": 10,
     "metadata": {},
     "output_type": "execute_result"
    }
   ],
   "source": [
    "csv_files[0]"
   ]
  },
  {
   "cell_type": "code",
   "execution_count": 11,
   "metadata": {},
   "outputs": [
    {
     "data": {
      "text/plain": [
       "Index(['50BTC.com', 'AntPool', 'BTC Guild', 'BTCC Pool', 'BW.COM', 'BitFury',\n",
       "       'BitMinter', 'Eligius', 'F2Pool', 'KnCMiner', 'SlushPool', 'Unknown',\n",
       "       'ViaBTC', 'ghash.io', 'others'],\n",
       "      dtype='object')"
      ]
     },
     "execution_count": 11,
     "metadata": {},
     "output_type": "execute_result"
    }
   ],
   "source": [
    "# Utworzenie tymczasowego dataframe \"temp\" z danymi z pliku \"*_hashrates.csv\"\n",
    "\n",
    "temp = []\n",
    "temp = pd.read_csv(csv_files[0],\n",
    "                   sep=',',delimiter=',', header=0, index_col='Time') \n",
    "temp.columns"
   ]
  },
  {
   "cell_type": "code",
   "execution_count": 12,
   "metadata": {},
   "outputs": [
    {
     "data": {
      "text/html": [
       "<div>\n",
       "<style>\n",
       "    .dataframe thead tr:only-child th {\n",
       "        text-align: right;\n",
       "    }\n",
       "\n",
       "    .dataframe thead th {\n",
       "        text-align: left;\n",
       "    }\n",
       "\n",
       "    .dataframe tbody tr th {\n",
       "        vertical-align: top;\n",
       "    }\n",
       "</style>\n",
       "<table border=\"1\" class=\"dataframe\">\n",
       "  <thead>\n",
       "    <tr style=\"text-align: right;\">\n",
       "      <th></th>\n",
       "      <th>50BTC.com</th>\n",
       "      <th>AntPool</th>\n",
       "      <th>BTC Guild</th>\n",
       "      <th>BTCC Pool</th>\n",
       "      <th>BW.COM</th>\n",
       "      <th>BitFury</th>\n",
       "      <th>BitMinter</th>\n",
       "      <th>Eligius</th>\n",
       "      <th>F2Pool</th>\n",
       "      <th>KnCMiner</th>\n",
       "      <th>SlushPool</th>\n",
       "      <th>Unknown</th>\n",
       "      <th>ViaBTC</th>\n",
       "      <th>ghash.io</th>\n",
       "      <th>others</th>\n",
       "    </tr>\n",
       "    <tr>\n",
       "      <th>Time</th>\n",
       "      <th></th>\n",
       "      <th></th>\n",
       "      <th></th>\n",
       "      <th></th>\n",
       "      <th></th>\n",
       "      <th></th>\n",
       "      <th></th>\n",
       "      <th></th>\n",
       "      <th></th>\n",
       "      <th></th>\n",
       "      <th></th>\n",
       "      <th></th>\n",
       "      <th></th>\n",
       "      <th></th>\n",
       "      <th></th>\n",
       "    </tr>\n",
       "  </thead>\n",
       "  <tbody>\n",
       "    <tr>\n",
       "      <th>2009-01-09 00:00:00 UTC</th>\n",
       "      <td>NaN</td>\n",
       "      <td>NaN</td>\n",
       "      <td>NaN</td>\n",
       "      <td>NaN</td>\n",
       "      <td>NaN</td>\n",
       "      <td>NaN</td>\n",
       "      <td>NaN</td>\n",
       "      <td>NaN</td>\n",
       "      <td>NaN</td>\n",
       "      <td>NaN</td>\n",
       "      <td>NaN</td>\n",
       "      <td>9.425148e+06</td>\n",
       "      <td>NaN</td>\n",
       "      <td>NaN</td>\n",
       "      <td>NaN</td>\n",
       "    </tr>\n",
       "    <tr>\n",
       "      <th>2009-01-10 00:00:00 UTC</th>\n",
       "      <td>NaN</td>\n",
       "      <td>NaN</td>\n",
       "      <td>NaN</td>\n",
       "      <td>NaN</td>\n",
       "      <td>NaN</td>\n",
       "      <td>NaN</td>\n",
       "      <td>NaN</td>\n",
       "      <td>NaN</td>\n",
       "      <td>NaN</td>\n",
       "      <td>NaN</td>\n",
       "      <td>NaN</td>\n",
       "      <td>1.676938e+06</td>\n",
       "      <td>NaN</td>\n",
       "      <td>NaN</td>\n",
       "      <td>NaN</td>\n",
       "    </tr>\n",
       "    <tr>\n",
       "      <th>2009-01-11 00:00:00 UTC</th>\n",
       "      <td>NaN</td>\n",
       "      <td>NaN</td>\n",
       "      <td>NaN</td>\n",
       "      <td>NaN</td>\n",
       "      <td>NaN</td>\n",
       "      <td>NaN</td>\n",
       "      <td>NaN</td>\n",
       "      <td>NaN</td>\n",
       "      <td>NaN</td>\n",
       "      <td>NaN</td>\n",
       "      <td>NaN</td>\n",
       "      <td>4.679436e+06</td>\n",
       "      <td>NaN</td>\n",
       "      <td>NaN</td>\n",
       "      <td>NaN</td>\n",
       "    </tr>\n",
       "  </tbody>\n",
       "</table>\n",
       "</div>"
      ],
      "text/plain": [
       "                         50BTC.com  AntPool  BTC Guild  BTCC Pool  BW.COM  \\\n",
       "Time                                                                        \n",
       "2009-01-09 00:00:00 UTC        NaN      NaN        NaN        NaN     NaN   \n",
       "2009-01-10 00:00:00 UTC        NaN      NaN        NaN        NaN     NaN   \n",
       "2009-01-11 00:00:00 UTC        NaN      NaN        NaN        NaN     NaN   \n",
       "\n",
       "                         BitFury  BitMinter  Eligius  F2Pool  KnCMiner  \\\n",
       "Time                                                                     \n",
       "2009-01-09 00:00:00 UTC      NaN        NaN      NaN     NaN       NaN   \n",
       "2009-01-10 00:00:00 UTC      NaN        NaN      NaN     NaN       NaN   \n",
       "2009-01-11 00:00:00 UTC      NaN        NaN      NaN     NaN       NaN   \n",
       "\n",
       "                         SlushPool       Unknown  ViaBTC  ghash.io  others  \n",
       "Time                                                                        \n",
       "2009-01-09 00:00:00 UTC        NaN  9.425148e+06     NaN       NaN     NaN  \n",
       "2009-01-10 00:00:00 UTC        NaN  1.676938e+06     NaN       NaN     NaN  \n",
       "2009-01-11 00:00:00 UTC        NaN  4.679436e+06     NaN       NaN     NaN  "
      ]
     },
     "execution_count": 12,
     "metadata": {},
     "output_type": "execute_result"
    }
   ],
   "source": [
    "temp.head(3)"
   ]
  },
  {
   "cell_type": "code",
   "execution_count": 13,
   "metadata": {
    "collapsed": true
   },
   "outputs": [],
   "source": [
    "# Zastąpienie danych z różnych giełd średnią\n",
    "\n",
    "temp['Hash_rates'] = temp.mean(axis=1)"
   ]
  },
  {
   "cell_type": "code",
   "execution_count": 14,
   "metadata": {},
   "outputs": [
    {
     "data": {
      "text/plain": [
       "Time\n",
       "2009-01-09 00:00:00 UTC    9.425148e+06\n",
       "2009-01-10 00:00:00 UTC    1.676938e+06\n",
       "2009-01-11 00:00:00 UTC    4.679436e+06\n",
       "Name: Hash_rates, dtype: float64"
      ]
     },
     "execution_count": 14,
     "metadata": {},
     "output_type": "execute_result"
    }
   ],
   "source": [
    "temp['Hash_rates'].head(3)"
   ]
  },
  {
   "cell_type": "code",
   "execution_count": 15,
   "metadata": {
    "collapsed": true
   },
   "outputs": [],
   "source": [
    "BTC_data = BTC_data.join(temp['Hash_rates'])"
   ]
  },
  {
   "cell_type": "code",
   "execution_count": 16,
   "metadata": {},
   "outputs": [
    {
     "data": {
      "text/html": [
       "<div>\n",
       "<style>\n",
       "    .dataframe thead tr:only-child th {\n",
       "        text-align: right;\n",
       "    }\n",
       "\n",
       "    .dataframe thead th {\n",
       "        text-align: left;\n",
       "    }\n",
       "\n",
       "    .dataframe tbody tr th {\n",
       "        vertical-align: top;\n",
       "    }\n",
       "</style>\n",
       "<table border=\"1\" class=\"dataframe\">\n",
       "  <thead>\n",
       "    <tr style=\"text-align: right;\">\n",
       "      <th></th>\n",
       "      <th>Price</th>\n",
       "      <th>Volume</th>\n",
       "      <th>Hash_rates</th>\n",
       "    </tr>\n",
       "    <tr>\n",
       "      <th>Time</th>\n",
       "      <th></th>\n",
       "      <th></th>\n",
       "      <th></th>\n",
       "    </tr>\n",
       "  </thead>\n",
       "  <tbody>\n",
       "    <tr>\n",
       "      <th>2010-07-17 00:00:00 UTC</th>\n",
       "      <td>0.049510</td>\n",
       "      <td>0.990200</td>\n",
       "      <td>1.579310e+09</td>\n",
       "    </tr>\n",
       "    <tr>\n",
       "      <th>2010-07-18 00:00:00 UTC</th>\n",
       "      <td>0.077975</td>\n",
       "      <td>5.091994</td>\n",
       "      <td>1.575160e+09</td>\n",
       "    </tr>\n",
       "    <tr>\n",
       "      <th>2010-07-19 00:00:00 UTC</th>\n",
       "      <td>0.086792</td>\n",
       "      <td>49.731775</td>\n",
       "      <td>1.541829e+09</td>\n",
       "    </tr>\n",
       "  </tbody>\n",
       "</table>\n",
       "</div>"
      ],
      "text/plain": [
       "                            Price     Volume    Hash_rates\n",
       "Time                                                      \n",
       "2010-07-17 00:00:00 UTC  0.049510   0.990200  1.579310e+09\n",
       "2010-07-18 00:00:00 UTC  0.077975   5.091994  1.575160e+09\n",
       "2010-07-19 00:00:00 UTC  0.086792  49.731775  1.541829e+09"
      ]
     },
     "execution_count": 16,
     "metadata": {},
     "output_type": "execute_result"
    }
   ],
   "source": [
    "BTC_data.head(3)"
   ]
  },
  {
   "cell_type": "code",
   "execution_count": 17,
   "metadata": {},
   "outputs": [
    {
     "data": {
      "text/plain": [
       "'data\\\\bitcoinity_data_marketcap.csv'"
      ]
     },
     "execution_count": 17,
     "metadata": {},
     "output_type": "execute_result"
    }
   ],
   "source": [
    "# Dodanie danych z pliku \"Marketcap\"\n",
    "\n",
    "file_no = 1\n",
    "plik = csv_files[file_no]\n",
    "plik"
   ]
  },
  {
   "cell_type": "code",
   "execution_count": 18,
   "metadata": {},
   "outputs": [
    {
     "data": {
      "text/plain": [
       "Index(['Unnamed: 1'], dtype='object')"
      ]
     },
     "execution_count": 18,
     "metadata": {},
     "output_type": "execute_result"
    }
   ],
   "source": [
    "temp = []\n",
    "\n",
    "temp = pd.read_csv(plik,\n",
    "                   sep=',',delimiter=',', header=0, index_col='Time')  ## , dtype=float, \n",
    "temp.columns"
   ]
  },
  {
   "cell_type": "code",
   "execution_count": 19,
   "metadata": {
    "collapsed": true
   },
   "outputs": [],
   "source": [
    "temp.columns =['Market_cap']"
   ]
  },
  {
   "cell_type": "code",
   "execution_count": 20,
   "metadata": {
    "scrolled": true
   },
   "outputs": [
    {
     "data": {
      "text/plain": [
       "Time\n",
       "2010-07-22 00:00:00 UTC    280079.37205\n",
       "2010-07-23 00:00:00 UTC    203592.21770\n",
       "2010-07-24 00:00:00 UTC    215564.14850\n",
       "Name: Market_cap, dtype: float64"
      ]
     },
     "execution_count": 20,
     "metadata": {},
     "output_type": "execute_result"
    }
   ],
   "source": [
    "temp['Market_cap'].head(3)"
   ]
  },
  {
   "cell_type": "code",
   "execution_count": 21,
   "metadata": {
    "collapsed": true
   },
   "outputs": [],
   "source": [
    "BTC_data = BTC_data.join(temp)"
   ]
  },
  {
   "cell_type": "code",
   "execution_count": 22,
   "metadata": {},
   "outputs": [
    {
     "data": {
      "text/html": [
       "<div>\n",
       "<style>\n",
       "    .dataframe thead tr:only-child th {\n",
       "        text-align: right;\n",
       "    }\n",
       "\n",
       "    .dataframe thead th {\n",
       "        text-align: left;\n",
       "    }\n",
       "\n",
       "    .dataframe tbody tr th {\n",
       "        vertical-align: top;\n",
       "    }\n",
       "</style>\n",
       "<table border=\"1\" class=\"dataframe\">\n",
       "  <thead>\n",
       "    <tr style=\"text-align: right;\">\n",
       "      <th></th>\n",
       "      <th>Price</th>\n",
       "      <th>Volume</th>\n",
       "      <th>Hash_rates</th>\n",
       "      <th>Market_cap</th>\n",
       "    </tr>\n",
       "    <tr>\n",
       "      <th>Time</th>\n",
       "      <th></th>\n",
       "      <th></th>\n",
       "      <th></th>\n",
       "      <th></th>\n",
       "    </tr>\n",
       "  </thead>\n",
       "  <tbody>\n",
       "    <tr>\n",
       "      <th>2010-07-17 00:00:00 UTC</th>\n",
       "      <td>0.049510</td>\n",
       "      <td>0.990200</td>\n",
       "      <td>1.579310e+09</td>\n",
       "      <td>NaN</td>\n",
       "    </tr>\n",
       "    <tr>\n",
       "      <th>2010-07-18 00:00:00 UTC</th>\n",
       "      <td>0.077975</td>\n",
       "      <td>5.091994</td>\n",
       "      <td>1.575160e+09</td>\n",
       "      <td>NaN</td>\n",
       "    </tr>\n",
       "    <tr>\n",
       "      <th>2010-07-19 00:00:00 UTC</th>\n",
       "      <td>0.086792</td>\n",
       "      <td>49.731775</td>\n",
       "      <td>1.541829e+09</td>\n",
       "      <td>NaN</td>\n",
       "    </tr>\n",
       "    <tr>\n",
       "      <th>2010-07-20 00:00:00 UTC</th>\n",
       "      <td>0.077999</td>\n",
       "      <td>20.595480</td>\n",
       "      <td>1.618386e+09</td>\n",
       "      <td>NaN</td>\n",
       "    </tr>\n",
       "    <tr>\n",
       "      <th>2010-07-21 00:00:00 UTC</th>\n",
       "      <td>0.070463</td>\n",
       "      <td>42.554942</td>\n",
       "      <td>1.871377e+09</td>\n",
       "      <td>NaN</td>\n",
       "    </tr>\n",
       "    <tr>\n",
       "      <th>2010-07-22 00:00:00 UTC</th>\n",
       "      <td>0.064120</td>\n",
       "      <td>131.521321</td>\n",
       "      <td>1.600886e+09</td>\n",
       "      <td>280079.37205</td>\n",
       "    </tr>\n",
       "    <tr>\n",
       "      <th>2010-07-23 00:00:00 UTC</th>\n",
       "      <td>0.061780</td>\n",
       "      <td>148.019114</td>\n",
       "      <td>1.735938e+09</td>\n",
       "      <td>203592.21770</td>\n",
       "    </tr>\n",
       "    <tr>\n",
       "      <th>2010-07-24 00:00:00 UTC</th>\n",
       "      <td>0.055815</td>\n",
       "      <td>26.740300</td>\n",
       "      <td>1.706393e+09</td>\n",
       "      <td>215564.14850</td>\n",
       "    </tr>\n",
       "    <tr>\n",
       "      <th>2010-07-25 00:00:00 UTC</th>\n",
       "      <td>0.054912</td>\n",
       "      <td>84.877296</td>\n",
       "      <td>2.091453e+09</td>\n",
       "      <td>194593.45750</td>\n",
       "    </tr>\n",
       "    <tr>\n",
       "      <th>2010-07-26 00:00:00 UTC</th>\n",
       "      <td>0.052659</td>\n",
       "      <td>47.348405</td>\n",
       "      <td>2.204631e+09</td>\n",
       "      <td>NaN</td>\n",
       "    </tr>\n",
       "  </tbody>\n",
       "</table>\n",
       "</div>"
      ],
      "text/plain": [
       "                            Price      Volume    Hash_rates    Market_cap\n",
       "Time                                                                     \n",
       "2010-07-17 00:00:00 UTC  0.049510    0.990200  1.579310e+09           NaN\n",
       "2010-07-18 00:00:00 UTC  0.077975    5.091994  1.575160e+09           NaN\n",
       "2010-07-19 00:00:00 UTC  0.086792   49.731775  1.541829e+09           NaN\n",
       "2010-07-20 00:00:00 UTC  0.077999   20.595480  1.618386e+09           NaN\n",
       "2010-07-21 00:00:00 UTC  0.070463   42.554942  1.871377e+09           NaN\n",
       "2010-07-22 00:00:00 UTC  0.064120  131.521321  1.600886e+09  280079.37205\n",
       "2010-07-23 00:00:00 UTC  0.061780  148.019114  1.735938e+09  203592.21770\n",
       "2010-07-24 00:00:00 UTC  0.055815   26.740300  1.706393e+09  215564.14850\n",
       "2010-07-25 00:00:00 UTC  0.054912   84.877296  2.091453e+09  194593.45750\n",
       "2010-07-26 00:00:00 UTC  0.052659   47.348405  2.204631e+09           NaN"
      ]
     },
     "execution_count": 22,
     "metadata": {},
     "output_type": "execute_result"
    }
   ],
   "source": [
    "BTC_data.head(10)"
   ]
  },
  {
   "cell_type": "code",
   "execution_count": 23,
   "metadata": {},
   "outputs": [
    {
     "data": {
      "text/plain": [
       "'data\\\\bitcoinity_data_mining_difficulty.csv'"
      ]
     },
     "execution_count": 23,
     "metadata": {},
     "output_type": "execute_result"
    }
   ],
   "source": [
    "# Dodanie danych \"Mining_difficulty\"\n",
    "\n",
    "file_no = 2\n",
    "plik = csv_files[file_no]\n",
    "plik"
   ]
  },
  {
   "cell_type": "code",
   "execution_count": 24,
   "metadata": {},
   "outputs": [
    {
     "data": {
      "text/plain": [
       "Index(['Unnamed: 1'], dtype='object')"
      ]
     },
     "execution_count": 24,
     "metadata": {},
     "output_type": "execute_result"
    }
   ],
   "source": [
    "temp = []\n",
    "\n",
    "temp = pd.read_csv(plik,\n",
    "                   sep=',',delimiter=',', header=0, index_col='Time')  ## , dtype=float, \n",
    "temp.columns"
   ]
  },
  {
   "cell_type": "code",
   "execution_count": 25,
   "metadata": {
    "collapsed": true
   },
   "outputs": [],
   "source": [
    "temp.columns =['Mining_difficulty']"
   ]
  },
  {
   "cell_type": "code",
   "execution_count": 26,
   "metadata": {},
   "outputs": [
    {
     "data": {
      "text/plain": [
       "Time\n",
       "2009-01-09 00:00:00 UTC    1.0\n",
       "2009-01-10 00:00:00 UTC    1.0\n",
       "2009-01-11 00:00:00 UTC    1.0\n",
       "Name: Mining_difficulty, dtype: float64"
      ]
     },
     "execution_count": 26,
     "metadata": {},
     "output_type": "execute_result"
    }
   ],
   "source": [
    "temp['Mining_difficulty'].head(3)"
   ]
  },
  {
   "cell_type": "code",
   "execution_count": 27,
   "metadata": {
    "collapsed": true
   },
   "outputs": [],
   "source": [
    "BTC_data = BTC_data.join(temp)"
   ]
  },
  {
   "cell_type": "code",
   "execution_count": 28,
   "metadata": {},
   "outputs": [
    {
     "data": {
      "text/html": [
       "<div>\n",
       "<style>\n",
       "    .dataframe thead tr:only-child th {\n",
       "        text-align: right;\n",
       "    }\n",
       "\n",
       "    .dataframe thead th {\n",
       "        text-align: left;\n",
       "    }\n",
       "\n",
       "    .dataframe tbody tr th {\n",
       "        vertical-align: top;\n",
       "    }\n",
       "</style>\n",
       "<table border=\"1\" class=\"dataframe\">\n",
       "  <thead>\n",
       "    <tr style=\"text-align: right;\">\n",
       "      <th></th>\n",
       "      <th>Price</th>\n",
       "      <th>Volume</th>\n",
       "      <th>Hash_rates</th>\n",
       "      <th>Market_cap</th>\n",
       "      <th>Mining_difficulty</th>\n",
       "    </tr>\n",
       "    <tr>\n",
       "      <th>Time</th>\n",
       "      <th></th>\n",
       "      <th></th>\n",
       "      <th></th>\n",
       "      <th></th>\n",
       "      <th></th>\n",
       "    </tr>\n",
       "  </thead>\n",
       "  <tbody>\n",
       "    <tr>\n",
       "      <th>2010-07-17 00:00:00 UTC</th>\n",
       "      <td>0.049510</td>\n",
       "      <td>0.990200</td>\n",
       "      <td>1.579310e+09</td>\n",
       "      <td>NaN</td>\n",
       "      <td>181.543289</td>\n",
       "    </tr>\n",
       "    <tr>\n",
       "      <th>2010-07-18 00:00:00 UTC</th>\n",
       "      <td>0.077975</td>\n",
       "      <td>5.091994</td>\n",
       "      <td>1.575160e+09</td>\n",
       "      <td>NaN</td>\n",
       "      <td>181.543289</td>\n",
       "    </tr>\n",
       "    <tr>\n",
       "      <th>2010-07-19 00:00:00 UTC</th>\n",
       "      <td>0.086792</td>\n",
       "      <td>49.731775</td>\n",
       "      <td>1.541829e+09</td>\n",
       "      <td>NaN</td>\n",
       "      <td>181.543289</td>\n",
       "    </tr>\n",
       "    <tr>\n",
       "      <th>2010-07-20 00:00:00 UTC</th>\n",
       "      <td>0.077999</td>\n",
       "      <td>20.595480</td>\n",
       "      <td>1.618386e+09</td>\n",
       "      <td>NaN</td>\n",
       "      <td>181.543289</td>\n",
       "    </tr>\n",
       "    <tr>\n",
       "      <th>2010-07-21 00:00:00 UTC</th>\n",
       "      <td>0.070463</td>\n",
       "      <td>42.554942</td>\n",
       "      <td>1.871377e+09</td>\n",
       "      <td>NaN</td>\n",
       "      <td>181.543289</td>\n",
       "    </tr>\n",
       "    <tr>\n",
       "      <th>2010-07-22 00:00:00 UTC</th>\n",
       "      <td>0.064120</td>\n",
       "      <td>131.521321</td>\n",
       "      <td>1.600886e+09</td>\n",
       "      <td>280079.37205</td>\n",
       "      <td>181.543289</td>\n",
       "    </tr>\n",
       "    <tr>\n",
       "      <th>2010-07-23 00:00:00 UTC</th>\n",
       "      <td>0.061780</td>\n",
       "      <td>148.019114</td>\n",
       "      <td>1.735938e+09</td>\n",
       "      <td>203592.21770</td>\n",
       "      <td>181.543289</td>\n",
       "    </tr>\n",
       "    <tr>\n",
       "      <th>2010-07-24 00:00:00 UTC</th>\n",
       "      <td>0.055815</td>\n",
       "      <td>26.740300</td>\n",
       "      <td>1.706393e+09</td>\n",
       "      <td>215564.14850</td>\n",
       "      <td>181.543289</td>\n",
       "    </tr>\n",
       "    <tr>\n",
       "      <th>2010-07-25 00:00:00 UTC</th>\n",
       "      <td>0.054912</td>\n",
       "      <td>84.877296</td>\n",
       "      <td>2.091453e+09</td>\n",
       "      <td>194593.45750</td>\n",
       "      <td>181.543289</td>\n",
       "    </tr>\n",
       "    <tr>\n",
       "      <th>2010-07-26 00:00:00 UTC</th>\n",
       "      <td>0.052659</td>\n",
       "      <td>47.348405</td>\n",
       "      <td>2.204631e+09</td>\n",
       "      <td>NaN</td>\n",
       "      <td>181.543289</td>\n",
       "    </tr>\n",
       "  </tbody>\n",
       "</table>\n",
       "</div>"
      ],
      "text/plain": [
       "                            Price      Volume    Hash_rates    Market_cap  \\\n",
       "Time                                                                        \n",
       "2010-07-17 00:00:00 UTC  0.049510    0.990200  1.579310e+09           NaN   \n",
       "2010-07-18 00:00:00 UTC  0.077975    5.091994  1.575160e+09           NaN   \n",
       "2010-07-19 00:00:00 UTC  0.086792   49.731775  1.541829e+09           NaN   \n",
       "2010-07-20 00:00:00 UTC  0.077999   20.595480  1.618386e+09           NaN   \n",
       "2010-07-21 00:00:00 UTC  0.070463   42.554942  1.871377e+09           NaN   \n",
       "2010-07-22 00:00:00 UTC  0.064120  131.521321  1.600886e+09  280079.37205   \n",
       "2010-07-23 00:00:00 UTC  0.061780  148.019114  1.735938e+09  203592.21770   \n",
       "2010-07-24 00:00:00 UTC  0.055815   26.740300  1.706393e+09  215564.14850   \n",
       "2010-07-25 00:00:00 UTC  0.054912   84.877296  2.091453e+09  194593.45750   \n",
       "2010-07-26 00:00:00 UTC  0.052659   47.348405  2.204631e+09           NaN   \n",
       "\n",
       "                         Mining_difficulty  \n",
       "Time                                        \n",
       "2010-07-17 00:00:00 UTC         181.543289  \n",
       "2010-07-18 00:00:00 UTC         181.543289  \n",
       "2010-07-19 00:00:00 UTC         181.543289  \n",
       "2010-07-20 00:00:00 UTC         181.543289  \n",
       "2010-07-21 00:00:00 UTC         181.543289  \n",
       "2010-07-22 00:00:00 UTC         181.543289  \n",
       "2010-07-23 00:00:00 UTC         181.543289  \n",
       "2010-07-24 00:00:00 UTC         181.543289  \n",
       "2010-07-25 00:00:00 UTC         181.543289  \n",
       "2010-07-26 00:00:00 UTC         181.543289  "
      ]
     },
     "execution_count": 28,
     "metadata": {},
     "output_type": "execute_result"
    }
   ],
   "source": [
    "BTC_data.head(10)"
   ]
  },
  {
   "cell_type": "code",
   "execution_count": 29,
   "metadata": {},
   "outputs": [
    {
     "data": {
      "text/plain": [
       "'data\\\\bitcoinity_data_notransactions.csv'"
      ]
     },
     "execution_count": 29,
     "metadata": {},
     "output_type": "execute_result"
    }
   ],
   "source": [
    "# Dodanie kolumny z danymi \"No_of_transactions\"\n",
    "\n",
    "file_no = 3\n",
    "plik = csv_files[file_no]\n",
    "plik"
   ]
  },
  {
   "cell_type": "code",
   "execution_count": 30,
   "metadata": {},
   "outputs": [
    {
     "data": {
      "text/plain": [
       "Index(['Unnamed: 1'], dtype='object')"
      ]
     },
     "execution_count": 30,
     "metadata": {},
     "output_type": "execute_result"
    }
   ],
   "source": [
    "temp = []\n",
    "\n",
    "temp = pd.read_csv(plik,\n",
    "                   sep=',',delimiter=',', header=0, index_col='Time')  ## , dtype=float, \n",
    "temp.columns"
   ]
  },
  {
   "cell_type": "code",
   "execution_count": 31,
   "metadata": {},
   "outputs": [
    {
     "data": {
      "text/plain": [
       "Time\n",
       "2009-01-09 00:00:00 UTC    14.0\n",
       "2009-01-10 00:00:00 UTC    61.0\n",
       "2009-01-11 00:00:00 UTC    93.0\n",
       "Name: No_of_transactions, dtype: float64"
      ]
     },
     "execution_count": 31,
     "metadata": {},
     "output_type": "execute_result"
    }
   ],
   "source": [
    "temp.columns =['No_of_transactions']\n",
    "temp['No_of_transactions'].head(3)"
   ]
  },
  {
   "cell_type": "code",
   "execution_count": 32,
   "metadata": {
    "collapsed": true
   },
   "outputs": [],
   "source": [
    "BTC_data = BTC_data.join(temp)"
   ]
  },
  {
   "cell_type": "code",
   "execution_count": 33,
   "metadata": {},
   "outputs": [
    {
     "data": {
      "text/html": [
       "<div>\n",
       "<style>\n",
       "    .dataframe thead tr:only-child th {\n",
       "        text-align: right;\n",
       "    }\n",
       "\n",
       "    .dataframe thead th {\n",
       "        text-align: left;\n",
       "    }\n",
       "\n",
       "    .dataframe tbody tr th {\n",
       "        vertical-align: top;\n",
       "    }\n",
       "</style>\n",
       "<table border=\"1\" class=\"dataframe\">\n",
       "  <thead>\n",
       "    <tr style=\"text-align: right;\">\n",
       "      <th></th>\n",
       "      <th>Price</th>\n",
       "      <th>Volume</th>\n",
       "      <th>Hash_rates</th>\n",
       "      <th>Market_cap</th>\n",
       "      <th>Mining_difficulty</th>\n",
       "      <th>No_of_transactions</th>\n",
       "    </tr>\n",
       "    <tr>\n",
       "      <th>Time</th>\n",
       "      <th></th>\n",
       "      <th></th>\n",
       "      <th></th>\n",
       "      <th></th>\n",
       "      <th></th>\n",
       "      <th></th>\n",
       "    </tr>\n",
       "  </thead>\n",
       "  <tbody>\n",
       "    <tr>\n",
       "      <th>2010-07-17 00:00:00 UTC</th>\n",
       "      <td>0.049510</td>\n",
       "      <td>0.990200</td>\n",
       "      <td>1.579310e+09</td>\n",
       "      <td>NaN</td>\n",
       "      <td>181.543289</td>\n",
       "      <td>408.0</td>\n",
       "    </tr>\n",
       "    <tr>\n",
       "      <th>2010-07-18 00:00:00 UTC</th>\n",
       "      <td>0.077975</td>\n",
       "      <td>5.091994</td>\n",
       "      <td>1.575160e+09</td>\n",
       "      <td>NaN</td>\n",
       "      <td>181.543289</td>\n",
       "      <td>420.0</td>\n",
       "    </tr>\n",
       "    <tr>\n",
       "      <th>2010-07-19 00:00:00 UTC</th>\n",
       "      <td>0.086792</td>\n",
       "      <td>49.731775</td>\n",
       "      <td>1.541829e+09</td>\n",
       "      <td>NaN</td>\n",
       "      <td>181.543289</td>\n",
       "      <td>528.0</td>\n",
       "    </tr>\n",
       "    <tr>\n",
       "      <th>2010-07-20 00:00:00 UTC</th>\n",
       "      <td>0.077999</td>\n",
       "      <td>20.595480</td>\n",
       "      <td>1.618386e+09</td>\n",
       "      <td>NaN</td>\n",
       "      <td>181.543289</td>\n",
       "      <td>594.0</td>\n",
       "    </tr>\n",
       "    <tr>\n",
       "      <th>2010-07-21 00:00:00 UTC</th>\n",
       "      <td>0.070463</td>\n",
       "      <td>42.554942</td>\n",
       "      <td>1.871377e+09</td>\n",
       "      <td>NaN</td>\n",
       "      <td>181.543289</td>\n",
       "      <td>463.0</td>\n",
       "    </tr>\n",
       "    <tr>\n",
       "      <th>2010-07-22 00:00:00 UTC</th>\n",
       "      <td>0.064120</td>\n",
       "      <td>131.521321</td>\n",
       "      <td>1.600886e+09</td>\n",
       "      <td>280079.37205</td>\n",
       "      <td>181.543289</td>\n",
       "      <td>397.0</td>\n",
       "    </tr>\n",
       "    <tr>\n",
       "      <th>2010-07-23 00:00:00 UTC</th>\n",
       "      <td>0.061780</td>\n",
       "      <td>148.019114</td>\n",
       "      <td>1.735938e+09</td>\n",
       "      <td>203592.21770</td>\n",
       "      <td>181.543289</td>\n",
       "      <td>411.0</td>\n",
       "    </tr>\n",
       "    <tr>\n",
       "      <th>2010-07-24 00:00:00 UTC</th>\n",
       "      <td>0.055815</td>\n",
       "      <td>26.740300</td>\n",
       "      <td>1.706393e+09</td>\n",
       "      <td>215564.14850</td>\n",
       "      <td>181.543289</td>\n",
       "      <td>894.0</td>\n",
       "    </tr>\n",
       "    <tr>\n",
       "      <th>2010-07-25 00:00:00 UTC</th>\n",
       "      <td>0.054912</td>\n",
       "      <td>84.877296</td>\n",
       "      <td>2.091453e+09</td>\n",
       "      <td>194593.45750</td>\n",
       "      <td>181.543289</td>\n",
       "      <td>1823.0</td>\n",
       "    </tr>\n",
       "    <tr>\n",
       "      <th>2010-07-26 00:00:00 UTC</th>\n",
       "      <td>0.052659</td>\n",
       "      <td>47.348405</td>\n",
       "      <td>2.204631e+09</td>\n",
       "      <td>NaN</td>\n",
       "      <td>181.543289</td>\n",
       "      <td>467.0</td>\n",
       "    </tr>\n",
       "  </tbody>\n",
       "</table>\n",
       "</div>"
      ],
      "text/plain": [
       "                            Price      Volume    Hash_rates    Market_cap  \\\n",
       "Time                                                                        \n",
       "2010-07-17 00:00:00 UTC  0.049510    0.990200  1.579310e+09           NaN   \n",
       "2010-07-18 00:00:00 UTC  0.077975    5.091994  1.575160e+09           NaN   \n",
       "2010-07-19 00:00:00 UTC  0.086792   49.731775  1.541829e+09           NaN   \n",
       "2010-07-20 00:00:00 UTC  0.077999   20.595480  1.618386e+09           NaN   \n",
       "2010-07-21 00:00:00 UTC  0.070463   42.554942  1.871377e+09           NaN   \n",
       "2010-07-22 00:00:00 UTC  0.064120  131.521321  1.600886e+09  280079.37205   \n",
       "2010-07-23 00:00:00 UTC  0.061780  148.019114  1.735938e+09  203592.21770   \n",
       "2010-07-24 00:00:00 UTC  0.055815   26.740300  1.706393e+09  215564.14850   \n",
       "2010-07-25 00:00:00 UTC  0.054912   84.877296  2.091453e+09  194593.45750   \n",
       "2010-07-26 00:00:00 UTC  0.052659   47.348405  2.204631e+09           NaN   \n",
       "\n",
       "                         Mining_difficulty  No_of_transactions  \n",
       "Time                                                            \n",
       "2010-07-17 00:00:00 UTC         181.543289               408.0  \n",
       "2010-07-18 00:00:00 UTC         181.543289               420.0  \n",
       "2010-07-19 00:00:00 UTC         181.543289               528.0  \n",
       "2010-07-20 00:00:00 UTC         181.543289               594.0  \n",
       "2010-07-21 00:00:00 UTC         181.543289               463.0  \n",
       "2010-07-22 00:00:00 UTC         181.543289               397.0  \n",
       "2010-07-23 00:00:00 UTC         181.543289               411.0  \n",
       "2010-07-24 00:00:00 UTC         181.543289               894.0  \n",
       "2010-07-25 00:00:00 UTC         181.543289              1823.0  \n",
       "2010-07-26 00:00:00 UTC         181.543289               467.0  "
      ]
     },
     "execution_count": 33,
     "metadata": {},
     "output_type": "execute_result"
    }
   ],
   "source": [
    "BTC_data.head(10)"
   ]
  },
  {
   "cell_type": "code",
   "execution_count": 34,
   "metadata": {},
   "outputs": [
    {
     "data": {
      "text/plain": [
       "'data\\\\bitcoinity_data_volatility.csv'"
      ]
     },
     "execution_count": 34,
     "metadata": {},
     "output_type": "execute_result"
    }
   ],
   "source": [
    "# Dodanie kolumny \"Volatility\"\n",
    "\n",
    "file_no = 5\n",
    "plik = csv_files[file_no]\n",
    "plik"
   ]
  },
  {
   "cell_type": "code",
   "execution_count": 35,
   "metadata": {},
   "outputs": [
    {
     "data": {
      "text/plain": [
       "Index(['anxbtc', 'bitcoin24', 'bitcurex', 'bitfloor', 'btce', 'cex.io',\n",
       "       'coinbase', 'coinsetter', 'exmo', 'gatecoin', 'gemini', 'justcoin',\n",
       "       'lakebtc', 'mtgox', 'others'],\n",
       "      dtype='object')"
      ]
     },
     "execution_count": 35,
     "metadata": {},
     "output_type": "execute_result"
    }
   ],
   "source": [
    "temp = []\n",
    "\n",
    "temp = pd.read_csv(plik,\n",
    "                   sep=',',delimiter=',', header=0, index_col='Time')  ## , dtype=float, \n",
    "temp.columns"
   ]
  },
  {
   "cell_type": "code",
   "execution_count": 36,
   "metadata": {
    "collapsed": true
   },
   "outputs": [],
   "source": [
    "temp['Volatility'] = temp.mean(axis=1)"
   ]
  },
  {
   "cell_type": "code",
   "execution_count": 37,
   "metadata": {},
   "outputs": [
    {
     "data": {
      "text/plain": [
       "Time\n",
       "2010-07-19 00:00:00 UTC    0.002372\n",
       "2010-07-20 00:00:00 UTC    0.001050\n",
       "2010-07-21 00:00:00 UTC    0.001695\n",
       "Name: Volatility, dtype: float64"
      ]
     },
     "execution_count": 37,
     "metadata": {},
     "output_type": "execute_result"
    }
   ],
   "source": [
    "temp['Volatility'].head(3)"
   ]
  },
  {
   "cell_type": "code",
   "execution_count": 38,
   "metadata": {
    "collapsed": true
   },
   "outputs": [],
   "source": [
    "BTC_data = BTC_data.join(temp['Volatility'])"
   ]
  },
  {
   "cell_type": "code",
   "execution_count": 39,
   "metadata": {},
   "outputs": [
    {
     "data": {
      "text/html": [
       "<div>\n",
       "<style>\n",
       "    .dataframe thead tr:only-child th {\n",
       "        text-align: right;\n",
       "    }\n",
       "\n",
       "    .dataframe thead th {\n",
       "        text-align: left;\n",
       "    }\n",
       "\n",
       "    .dataframe tbody tr th {\n",
       "        vertical-align: top;\n",
       "    }\n",
       "</style>\n",
       "<table border=\"1\" class=\"dataframe\">\n",
       "  <thead>\n",
       "    <tr style=\"text-align: right;\">\n",
       "      <th></th>\n",
       "      <th>Price</th>\n",
       "      <th>Volume</th>\n",
       "      <th>Hash_rates</th>\n",
       "      <th>Market_cap</th>\n",
       "      <th>Mining_difficulty</th>\n",
       "      <th>No_of_transactions</th>\n",
       "      <th>Volatility</th>\n",
       "    </tr>\n",
       "    <tr>\n",
       "      <th>Time</th>\n",
       "      <th></th>\n",
       "      <th></th>\n",
       "      <th></th>\n",
       "      <th></th>\n",
       "      <th></th>\n",
       "      <th></th>\n",
       "      <th></th>\n",
       "    </tr>\n",
       "  </thead>\n",
       "  <tbody>\n",
       "    <tr>\n",
       "      <th>2010-07-17 00:00:00 UTC</th>\n",
       "      <td>0.049510</td>\n",
       "      <td>0.990200</td>\n",
       "      <td>1.579310e+09</td>\n",
       "      <td>NaN</td>\n",
       "      <td>181.543289</td>\n",
       "      <td>408.0</td>\n",
       "      <td>NaN</td>\n",
       "    </tr>\n",
       "    <tr>\n",
       "      <th>2010-07-18 00:00:00 UTC</th>\n",
       "      <td>0.077975</td>\n",
       "      <td>5.091994</td>\n",
       "      <td>1.575160e+09</td>\n",
       "      <td>NaN</td>\n",
       "      <td>181.543289</td>\n",
       "      <td>420.0</td>\n",
       "      <td>NaN</td>\n",
       "    </tr>\n",
       "    <tr>\n",
       "      <th>2010-07-19 00:00:00 UTC</th>\n",
       "      <td>0.086792</td>\n",
       "      <td>49.731775</td>\n",
       "      <td>1.541829e+09</td>\n",
       "      <td>NaN</td>\n",
       "      <td>181.543289</td>\n",
       "      <td>528.0</td>\n",
       "      <td>0.002372</td>\n",
       "    </tr>\n",
       "    <tr>\n",
       "      <th>2010-07-20 00:00:00 UTC</th>\n",
       "      <td>0.077999</td>\n",
       "      <td>20.595480</td>\n",
       "      <td>1.618386e+09</td>\n",
       "      <td>NaN</td>\n",
       "      <td>181.543289</td>\n",
       "      <td>594.0</td>\n",
       "      <td>0.001050</td>\n",
       "    </tr>\n",
       "    <tr>\n",
       "      <th>2010-07-21 00:00:00 UTC</th>\n",
       "      <td>0.070463</td>\n",
       "      <td>42.554942</td>\n",
       "      <td>1.871377e+09</td>\n",
       "      <td>NaN</td>\n",
       "      <td>181.543289</td>\n",
       "      <td>463.0</td>\n",
       "      <td>0.001695</td>\n",
       "    </tr>\n",
       "    <tr>\n",
       "      <th>2010-07-22 00:00:00 UTC</th>\n",
       "      <td>0.064120</td>\n",
       "      <td>131.521321</td>\n",
       "      <td>1.600886e+09</td>\n",
       "      <td>280079.37205</td>\n",
       "      <td>181.543289</td>\n",
       "      <td>397.0</td>\n",
       "      <td>0.002055</td>\n",
       "    </tr>\n",
       "    <tr>\n",
       "      <th>2010-07-23 00:00:00 UTC</th>\n",
       "      <td>0.061780</td>\n",
       "      <td>148.019114</td>\n",
       "      <td>1.735938e+09</td>\n",
       "      <td>203592.21770</td>\n",
       "      <td>181.543289</td>\n",
       "      <td>411.0</td>\n",
       "      <td>0.002835</td>\n",
       "    </tr>\n",
       "    <tr>\n",
       "      <th>2010-07-24 00:00:00 UTC</th>\n",
       "      <td>0.055815</td>\n",
       "      <td>26.740300</td>\n",
       "      <td>1.706393e+09</td>\n",
       "      <td>215564.14850</td>\n",
       "      <td>181.543289</td>\n",
       "      <td>894.0</td>\n",
       "      <td>0.000643</td>\n",
       "    </tr>\n",
       "    <tr>\n",
       "      <th>2010-07-25 00:00:00 UTC</th>\n",
       "      <td>0.054912</td>\n",
       "      <td>84.877296</td>\n",
       "      <td>2.091453e+09</td>\n",
       "      <td>194593.45750</td>\n",
       "      <td>181.543289</td>\n",
       "      <td>1823.0</td>\n",
       "      <td>0.001277</td>\n",
       "    </tr>\n",
       "    <tr>\n",
       "      <th>2010-07-26 00:00:00 UTC</th>\n",
       "      <td>0.052659</td>\n",
       "      <td>47.348405</td>\n",
       "      <td>2.204631e+09</td>\n",
       "      <td>NaN</td>\n",
       "      <td>181.543289</td>\n",
       "      <td>467.0</td>\n",
       "      <td>0.001686</td>\n",
       "    </tr>\n",
       "  </tbody>\n",
       "</table>\n",
       "</div>"
      ],
      "text/plain": [
       "                            Price      Volume    Hash_rates    Market_cap  \\\n",
       "Time                                                                        \n",
       "2010-07-17 00:00:00 UTC  0.049510    0.990200  1.579310e+09           NaN   \n",
       "2010-07-18 00:00:00 UTC  0.077975    5.091994  1.575160e+09           NaN   \n",
       "2010-07-19 00:00:00 UTC  0.086792   49.731775  1.541829e+09           NaN   \n",
       "2010-07-20 00:00:00 UTC  0.077999   20.595480  1.618386e+09           NaN   \n",
       "2010-07-21 00:00:00 UTC  0.070463   42.554942  1.871377e+09           NaN   \n",
       "2010-07-22 00:00:00 UTC  0.064120  131.521321  1.600886e+09  280079.37205   \n",
       "2010-07-23 00:00:00 UTC  0.061780  148.019114  1.735938e+09  203592.21770   \n",
       "2010-07-24 00:00:00 UTC  0.055815   26.740300  1.706393e+09  215564.14850   \n",
       "2010-07-25 00:00:00 UTC  0.054912   84.877296  2.091453e+09  194593.45750   \n",
       "2010-07-26 00:00:00 UTC  0.052659   47.348405  2.204631e+09           NaN   \n",
       "\n",
       "                         Mining_difficulty  No_of_transactions  Volatility  \n",
       "Time                                                                        \n",
       "2010-07-17 00:00:00 UTC         181.543289               408.0         NaN  \n",
       "2010-07-18 00:00:00 UTC         181.543289               420.0         NaN  \n",
       "2010-07-19 00:00:00 UTC         181.543289               528.0    0.002372  \n",
       "2010-07-20 00:00:00 UTC         181.543289               594.0    0.001050  \n",
       "2010-07-21 00:00:00 UTC         181.543289               463.0    0.001695  \n",
       "2010-07-22 00:00:00 UTC         181.543289               397.0    0.002055  \n",
       "2010-07-23 00:00:00 UTC         181.543289               411.0    0.002835  \n",
       "2010-07-24 00:00:00 UTC         181.543289               894.0    0.000643  \n",
       "2010-07-25 00:00:00 UTC         181.543289              1823.0    0.001277  \n",
       "2010-07-26 00:00:00 UTC         181.543289               467.0    0.001686  "
      ]
     },
     "execution_count": 39,
     "metadata": {},
     "output_type": "execute_result"
    }
   ],
   "source": [
    "BTC_data.head(10)"
   ]
  },
  {
   "cell_type": "code",
   "execution_count": 40,
   "metadata": {
    "scrolled": true
   },
   "outputs": [
    {
     "name": "stdout",
     "output_type": "stream",
     "text": [
      "<class 'pandas.core.frame.DataFrame'>\n",
      "Index: 2631 entries, 2010-07-17 00:00:00 UTC to 2017-09-28 00:00:00 UTC\n",
      "Data columns (total 7 columns):\n",
      "Price                 2631 non-null float64\n",
      "Volume                2631 non-null float64\n",
      "Hash_rates            2631 non-null float64\n",
      "Market_cap            2321 non-null float64\n",
      "Mining_difficulty     2631 non-null float64\n",
      "No_of_transactions    2631 non-null float64\n",
      "Volatility            2600 non-null float64\n",
      "dtypes: float64(7)\n",
      "memory usage: 244.4+ KB\n"
     ]
    }
   ],
   "source": [
    "BTC_data.info()"
   ]
  },
  {
   "cell_type": "code",
   "execution_count": 41,
   "metadata": {},
   "outputs": [
    {
     "data": {
      "text/plain": [
       "Price                   0\n",
       "Volume                  0\n",
       "Hash_rates              0\n",
       "Market_cap            310\n",
       "Mining_difficulty       0\n",
       "No_of_transactions      0\n",
       "Volatility             31\n",
       "dtype: int64"
      ]
     },
     "execution_count": 41,
     "metadata": {},
     "output_type": "execute_result"
    }
   ],
   "source": [
    "BTC_data.isnull().sum()"
   ]
  },
  {
   "cell_type": "code",
   "execution_count": 42,
   "metadata": {
    "collapsed": true
   },
   "outputs": [],
   "source": [
    "BTC_data = BTC_data.dropna(axis=0)"
   ]
  },
  {
   "cell_type": "code",
   "execution_count": 43,
   "metadata": {},
   "outputs": [
    {
     "name": "stdout",
     "output_type": "stream",
     "text": [
      "<class 'pandas.core.frame.DataFrame'>\n",
      "Index: 2321 entries, 2010-07-22 00:00:00 UTC to 2017-09-28 00:00:00 UTC\n",
      "Data columns (total 7 columns):\n",
      "Price                 2321 non-null float64\n",
      "Volume                2321 non-null float64\n",
      "Hash_rates            2321 non-null float64\n",
      "Market_cap            2321 non-null float64\n",
      "Mining_difficulty     2321 non-null float64\n",
      "No_of_transactions    2321 non-null float64\n",
      "Volatility            2321 non-null float64\n",
      "dtypes: float64(7)\n",
      "memory usage: 145.1+ KB\n"
     ]
    }
   ],
   "source": [
    "BTC_data.info()"
   ]
  },
  {
   "cell_type": "code",
   "execution_count": 44,
   "metadata": {},
   "outputs": [
    {
     "data": {
      "text/html": [
       "<div>\n",
       "<style>\n",
       "    .dataframe thead tr:only-child th {\n",
       "        text-align: right;\n",
       "    }\n",
       "\n",
       "    .dataframe thead th {\n",
       "        text-align: left;\n",
       "    }\n",
       "\n",
       "    .dataframe tbody tr th {\n",
       "        vertical-align: top;\n",
       "    }\n",
       "</style>\n",
       "<table border=\"1\" class=\"dataframe\">\n",
       "  <thead>\n",
       "    <tr style=\"text-align: right;\">\n",
       "      <th></th>\n",
       "      <th>Price</th>\n",
       "      <th>Volume</th>\n",
       "      <th>Hash_rates</th>\n",
       "      <th>Market_cap</th>\n",
       "      <th>Mining_difficulty</th>\n",
       "      <th>No_of_transactions</th>\n",
       "      <th>Volatility</th>\n",
       "    </tr>\n",
       "    <tr>\n",
       "      <th>Time</th>\n",
       "      <th></th>\n",
       "      <th></th>\n",
       "      <th></th>\n",
       "      <th></th>\n",
       "      <th></th>\n",
       "      <th></th>\n",
       "      <th></th>\n",
       "    </tr>\n",
       "  </thead>\n",
       "  <tbody>\n",
       "    <tr>\n",
       "      <th>2017-09-26 00:00:00 UTC</th>\n",
       "      <td>3926.398515</td>\n",
       "      <td>2.051000e+08</td>\n",
       "      <td>8.351330e+17</td>\n",
       "      <td>6.848397e+10</td>\n",
       "      <td>1.103401e+12</td>\n",
       "      <td>263648.0</td>\n",
       "      <td>7.523801</td>\n",
       "    </tr>\n",
       "    <tr>\n",
       "      <th>2017-09-27 00:00:00 UTC</th>\n",
       "      <td>4041.845466</td>\n",
       "      <td>3.987348e+08</td>\n",
       "      <td>9.034071e+17</td>\n",
       "      <td>6.789660e+10</td>\n",
       "      <td>1.103401e+12</td>\n",
       "      <td>257961.0</td>\n",
       "      <td>8.819842</td>\n",
       "    </tr>\n",
       "    <tr>\n",
       "      <th>2017-09-28 00:00:00 UTC</th>\n",
       "      <td>4194.083824</td>\n",
       "      <td>3.113825e+08</td>\n",
       "      <td>1.075711e+18</td>\n",
       "      <td>7.304576e+10</td>\n",
       "      <td>1.103401e+12</td>\n",
       "      <td>275976.0</td>\n",
       "      <td>14.386137</td>\n",
       "    </tr>\n",
       "  </tbody>\n",
       "</table>\n",
       "</div>"
      ],
      "text/plain": [
       "                               Price        Volume    Hash_rates  \\\n",
       "Time                                                               \n",
       "2017-09-26 00:00:00 UTC  3926.398515  2.051000e+08  8.351330e+17   \n",
       "2017-09-27 00:00:00 UTC  4041.845466  3.987348e+08  9.034071e+17   \n",
       "2017-09-28 00:00:00 UTC  4194.083824  3.113825e+08  1.075711e+18   \n",
       "\n",
       "                           Market_cap  Mining_difficulty  No_of_transactions  \\\n",
       "Time                                                                           \n",
       "2017-09-26 00:00:00 UTC  6.848397e+10       1.103401e+12            263648.0   \n",
       "2017-09-27 00:00:00 UTC  6.789660e+10       1.103401e+12            257961.0   \n",
       "2017-09-28 00:00:00 UTC  7.304576e+10       1.103401e+12            275976.0   \n",
       "\n",
       "                         Volatility  \n",
       "Time                                 \n",
       "2017-09-26 00:00:00 UTC    7.523801  \n",
       "2017-09-27 00:00:00 UTC    8.819842  \n",
       "2017-09-28 00:00:00 UTC   14.386137  "
      ]
     },
     "execution_count": 44,
     "metadata": {},
     "output_type": "execute_result"
    }
   ],
   "source": [
    "# Końcowa wersja tabeli z danymi:\n",
    "\n",
    "BTC_data.tail(3)"
   ]
  },
  {
   "cell_type": "code",
   "execution_count": 45,
   "metadata": {
    "collapsed": true
   },
   "outputs": [],
   "source": [
    "# Zapisanie tabeli do pliku\n",
    "\n",
    "BTC_data.to_csv('data\\KROK_1\\BTC_data.csv', index=True, sep=',')"
   ]
  },
  {
   "cell_type": "markdown",
   "metadata": {
    "collapsed": true
   },
   "source": [
    "Dalsza część związana z predykcją i zastosowania sieci LSTM w notebooku \"KROK_2 LSTM.ipynb\""
   ]
  },
  {
   "cell_type": "code",
   "execution_count": 46,
   "metadata": {
    "collapsed": true
   },
   "outputs": [],
   "source": [
    "# Sprawdzam korelację pomiędzy zmiennymi, które zebrałem dla BTC"
   ]
  },
  {
   "cell_type": "code",
   "execution_count": 47,
   "metadata": {
    "collapsed": true
   },
   "outputs": [],
   "source": [
    "import numpy as np\n",
    "from scipy import stats\n",
    "import pandas as pd\n",
    "import matplotlib.pyplot as plt\n",
    "import seaborn as sns"
   ]
  },
  {
   "cell_type": "code",
   "execution_count": 48,
   "metadata": {
    "scrolled": true
   },
   "outputs": [
    {
     "data": {
      "image/png": "[encoded data removed]",
      "text/plain": [
       "<matplotlib.figure.Figure at 0xba3e438>"
      ]
     },
     "metadata": {},
     "output_type": "display_data"
    }
   ],
   "source": [
    "sns.pairplot(BTC_data,kind='reg');\n",
    "plt.show()"
   ]
  },
  {
   "cell_type": "markdown",
   "metadata": {},
   "source": [
    "Jak widac na powyższych wykresach zmienna \"Price\" jest bardzo zależna od \"Hash_rates\", \"Market_cap\" oraz \"Mining_difficulty\" i \"No_of_transactions\". Cena BTC jest mniej skorelowana ze zmiennymi \"Volume\" oraz \"Volatility\". "
   ]
  },
  {
   "cell_type": "markdown",
   "metadata": {},
   "source": [
    "Sprawdzam korelację zmiennej \"Price\" z innymi zmiennymi przy użyciu współczninnika korelacji:\n",
    "\n",
    "- Pearsona - wspólczynnik korelacji liniowej dwóch zmiennych losowych\n",
    "\n",
    "- Spearmana - wspólczynnik korelacji rangowej. Zależność liniowa i nieliniowa dwóch zmiennych\n",
    "\n",
    "- Kendall'a - opisuje korelację między zmiennymi porządkowymi"
   ]
  },
  {
   "cell_type": "code",
   "execution_count": 49,
   "metadata": {},
   "outputs": [
    {
     "name": "stdout",
     "output_type": "stream",
     "text": [
      "\n",
      " Price to Price corelation : \n",
      "{'Pearson': 1.0, 'Spearman': 1.0, 'Kendall': 1.0}\n",
      "\n",
      " Price to Volume corelation : \n",
      "{'Pearson': 0.83989731724609507, 'Spearman': 0.87050918758229578, 'Kendall': 0.70723454515740847}\n",
      "\n",
      " Price to Hash_rates corelation : \n",
      "{'Pearson': 0.91821406099085034, 'Spearman': 0.87731840922018678, 'Kendall': 0.73031466817216129}\n",
      "\n",
      " Price to Market_cap corelation : \n",
      "{'Pearson': 0.99725749381635431, 'Spearman': 0.99647058440760472, 'Kendall': 0.96108469892584958}\n",
      "\n",
      " Price to Mining_difficulty corelation : \n",
      "{'Pearson': 0.92247315592156975, 'Spearman': 0.87619773445810867, 'Kendall': 0.7314926485186003}\n",
      "\n",
      " Price to No_of_transactions corelation : \n",
      "{'Pearson': 0.62902685959430948, 'Spearman': 0.84964238536832382, 'Kendall': 0.67991109632324498}\n",
      "\n",
      " Price to Volatility corelation : \n",
      "{'Pearson': 0.66796158284889684, 'Spearman': 0.88588093160384185, 'Kendall': 0.71734834866065467}\n"
     ]
    }
   ],
   "source": [
    "for k in (BTC_data.columns):\n",
    "    print('\\n', 'Price to', k,'corelation', ': ')\n",
    "    corr = {}\n",
    "    corr['Pearson'], _ = stats.pearsonr(BTC_data['Price'], BTC_data[k])\n",
    "    corr['Spearman'], _ = stats.spearmanr(BTC_data['Price'], BTC_data[k])\n",
    "    corr['Kendall'], _ = stats.kendalltau(BTC_data['Price'], BTC_data[k])\n",
    "    print(corr)"
   ]
  },
  {
   "cell_type": "markdown",
   "metadata": {},
   "source": [
    "Po wynikach widać, że współczynnik Pearsona ma korelację dodatnią od dość mocnej do bardzo silnej z resztą zmiennych."
   ]
  },
  {
   "cell_type": "markdown",
   "metadata": {},
   "source": [
    "Dalsza część związana z predykcją i zastosowania sieci LSTM w notebooku \"KROK_2 LSTM.ipynb\""
   ]
  },
  {
   "cell_type": "code",
   "execution_count": null,
   "metadata": {
    "collapsed": true
   },
   "outputs": [],
   "source": []
  }
 ],
 "metadata": {
  "kernelspec": {
   "display_name": "Python 3",
   "language": "python",
   "name": "python3"
  },
  "language_info": {
   "codemirror_mode": {
    "name": "ipython",
    "version": 3
   },
   "file_extension": ".py",
   "mimetype": "text/x-python",
   "name": "python",
   "nbconvert_exporter": "python",
   "pygments_lexer": "ipython3",
   "version": "3.6.0"
  }
 },
 "nbformat": 4,
 "nbformat_minor": 2
}
